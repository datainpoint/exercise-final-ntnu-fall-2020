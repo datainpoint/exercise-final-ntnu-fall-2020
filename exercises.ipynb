{
 "cells": [
  {
   "cell_type": "markdown",
   "metadata": {
    "deletable": false,
    "editable": false
   },
   "source": [
    "##  Python Data Science\n",
    "\n",
    "> Final for NTNU, Fall, 2020.\n",
    "\n",
    "Kuo, Yao-Jen <yaojenkuo@datainpoint.com> from [DATAINPOINT](https://www.datainpoint.com)"
   ]
  },
  {
   "cell_type": "code",
   "execution_count": 1,
   "metadata": {
    "deletable": false,
    "editable": false
   },
   "outputs": [],
   "source": [
    "import numpy as np\n",
    "import pandas as pd"
   ]
  },
  {
   "cell_type": "markdown",
   "metadata": {},
   "source": [
    "## Define a function named `find_movies` that is able to extract the movies released in 1994.\n",
    "\n",
    "- Expected inputs: a CSV file `imdb_top_rated_movies.csv`.\n",
    "- Expected outputs: a (5, 3) DataFrame."
   ]
  },
  {
   "cell_type": "code",
   "execution_count": 2,
   "metadata": {},
   "outputs": [],
   "source": [
    "def find_movies(csv_file_path):\n",
    "    \"\"\"\n",
    "    >>> movies = find_movies('imdb_top_rated_movies.csv')\n",
    "    >>> print(type(movies))\n",
    "    <class 'pandas.core.frame.DataFrame'>\n",
    "    >>> print(movies.shape)\n",
    "    (5, 3)\n",
    "    >>> print(movies)\n",
    "                          title  release_year  imdb_rating\n",
    "    0  The Shawshank Redemption          1994          9.2\n",
    "    1              Pulp Fiction          1994          8.8\n",
    "    2              Forrest Gump          1994          8.8\n",
    "    3    Léon: The Professional          1994          8.5\n",
    "    4             The Lion King          1994          8.5\n",
    "    \"\"\"\n",
    "    ### BEGIN SOLUTION\n",
    "    ### END SOLUTION"
   ]
  },
  {
   "cell_type": "markdown",
   "metadata": {},
   "source": [
    "## Define a class named `ImdbTopRated` that has 2 methods: `get_shape` and `get_avg_rating`. The `get_shape` method is able to return the shape of the DataFrame with a tuple `(m, n)`, where `m` stands for number of observations and `n` stands for number of variables. The `get_avg_rating` method is able to return the average IMDb rating.\n",
    "\n",
    "- Expected inputs: a CSV file `imdb_top_rated_movies.csv`.\n",
    "- Expected outputs: a tuple / a float."
   ]
  },
  {
   "cell_type": "code",
   "execution_count": 3,
   "metadata": {},
   "outputs": [],
   "source": [
    "class ImdbTopRated:\n",
    "    \"\"\"\n",
    "    >>> imdb_top_rated = ImdbTopRated()\n",
    "    >>> print(imdb_top_rated.get_shape())\n",
    "    (250, 3)\n",
    "    >>> print(imdb_top_rated.get_avg_rating())\n",
    "    8.254400000000002\n",
    "    \"\"\"\n",
    "    ### BEGIN SOLUTION\n",
    "    ### END SOLUTION"
   ]
  },
  {
   "cell_type": "markdown",
   "metadata": {},
   "source": [
    "## Define a function named `find_unique_country_regions` that is able to extract the unique `Country_Region` together with their value counts(number of observations) as of 2020-12-31.\n",
    "\n",
    "- Expected inputs: a CSV file `12-31-2020.csv`.\n",
    "- Expected outputs: a Series with a size of 191."
   ]
  },
  {
   "cell_type": "code",
   "execution_count": 4,
   "metadata": {},
   "outputs": [],
   "source": [
    "def find_unique_country_regions(csv_file_path):\n",
    "    \"\"\"\n",
    "    >>> unique_country_regions = find_unique_country_regions('12-31-2020.csv')\n",
    "    >>> print(type(unique_country_regions))\n",
    "    <class 'pandas.core.series.Series'>\n",
    "    >>> print(unique_country_regions.size)\n",
    "    191\n",
    "    >>> print(unique_country_regions)\n",
    "    Afghanistan           1\n",
    "    Albania               1\n",
    "    Algeria               1\n",
    "    Andorra               1\n",
    "    Angola                1\n",
    "                         ..\n",
    "    Vietnam               1\n",
    "    West Bank and Gaza    1\n",
    "    Yemen                 1\n",
    "    Zambia                1\n",
    "    Zimbabwe              1\n",
    "    Name: Country_Region, Length: 191, dtype: int64\n",
    "    >>> print(unique_country_regions['US'])\n",
    "    3274\n",
    "    >>> print(unique_country_regions['Canada'])\n",
    "    16\n",
    "    \"\"\"\n",
    "    ### BEGIN SOLUTION\n",
    "    ### END SOLUTION"
   ]
  },
  {
   "cell_type": "markdown",
   "metadata": {},
   "source": [
    "## Define a function named `find_most_confirmed_countries` that is able to summarize the top 20 most confirmed cases by country as of 2020-12-31.\n",
    "\n",
    "- Expected inputs: a CSV file `12-31-2020.csv`.\n",
    "- Expected outputs: a Series with a size of 20."
   ]
  },
  {
   "cell_type": "code",
   "execution_count": 5,
   "metadata": {},
   "outputs": [],
   "source": [
    "def find_most_confirmed_countries(csv_file_path):\n",
    "    \"\"\"\n",
    "    >>> most_confirmed_countries = find_most_confirmed_countries('12-31-2020.csv')\n",
    "    >>> print(type(most_confirmed_countries))\n",
    "    <class 'pandas.core.series.Series'>\n",
    "    >>> print(most_confirmed_countries.size)\n",
    "    20\n",
    "    >>> print(most_confirmed_countries)\n",
    "    Country_Region\n",
    "    US                19974564\n",
    "    India             10266674\n",
    "    Brazil             7675973\n",
    "    Russia             3127347\n",
    "    France             2677666\n",
    "    United Kingdom     2496231\n",
    "    Turkey             2208652\n",
    "    Italy              2107166\n",
    "    Spain              1928265\n",
    "    Germany            1760520\n",
    "    Colombia           1642775\n",
    "    Argentina          1625514\n",
    "    Mexico             1426094\n",
    "    Poland             1294878\n",
    "    Iran               1225142\n",
    "    Ukraine            1086997\n",
    "    South Africa       1057161\n",
    "    Peru               1015137\n",
    "    Netherlands         808382\n",
    "    Indonesia           743198\n",
    "    Name: Confirmed, dtype: int64\n",
    "    \"\"\"\n",
    "    ### BEGIN SOLUTION\n",
    "    ### END SOLUTION"
   ]
  },
  {
   "cell_type": "markdown",
   "metadata": {},
   "source": [
    "## The ongoing COVID-19 pandemic has been affected more than `w` countries worldwide, more than `x` cases have been reported, resulting in more than `y` deaths, more than `z` people have recovered. Define a class named `Covid19` that has four methods: `get_nunique_countries`, `get_total_confirmed`, `get_total_deaths`, and `get_total_recovered` is able to return the 4 numbers respectively as of 2020-12-31.\n",
    "\n",
    "- Expected inputs: a CSV file `12-31-2020.csv`.\n",
    "- Expected outputs: integers."
   ]
  },
  {
   "cell_type": "code",
   "execution_count": 6,
   "metadata": {},
   "outputs": [],
   "source": [
    "class Covid19:\n",
    "    \"\"\"\n",
    "    >>> covid19 = Covid19()\n",
    "    >>> covid19.get_nunique_countries()\n",
    "    191\n",
    "    >>> covid19.get_total_confirmed()\n",
    "    83430923\n",
    "    >>> covid19.get_total_deaths()\n",
    "    1818238\n",
    "    >>> covid19.get_total_recovered()\n",
    "    47010049\n",
    "    \"\"\"\n",
    "    ### BEGIN SOLUTION\n",
    "    ### END SOLUTION"
   ]
  },
  {
   "cell_type": "markdown",
   "metadata": {},
   "source": [
    "## Define a function named `find_taiwan_cumulative` that is able to extract the time series data of confirmed cases for Taiwan from 2020-01-22 to 2020-12-31 and then do a transpose.\n",
    "\n",
    "Note: We've removed the asterisks `*` from the csv file.\n",
    "\n",
    "- Expected inputs: a CSV file `time_series_covid19_confirmed_global.csv`.\n",
    "- Expected outputs: a (345, 3) DataFrame."
   ]
  },
  {
   "cell_type": "code",
   "execution_count": 7,
   "metadata": {},
   "outputs": [],
   "source": [
    "def find_taiwan_cumulative(csv_file_path):\n",
    "    \"\"\"\n",
    "    >>> taiwan_cumulative = find_taiwan_cumulative('time_series_covid19_confirmed_global.csv')\n",
    "    >>> print(type(taiwan_cumulative))\n",
    "    <class 'pandas.core.frame.DataFrame'>\n",
    "    >>> print(taiwan_cumulative.shape)\n",
    "    (345, 3)\n",
    "    >>> print(taiwan_cumulative)\n",
    "        Country/Region      Date  Cumulative\n",
    "    0           Taiwan   1/22/20           1\n",
    "    1           Taiwan   1/23/20           1\n",
    "    2           Taiwan   1/24/20           3\n",
    "    3           Taiwan   1/25/20           3\n",
    "    4           Taiwan   1/26/20           4\n",
    "    ..             ...       ...         ...\n",
    "    340         Taiwan  12/27/20         785\n",
    "    341         Taiwan  12/28/20         793\n",
    "    342         Taiwan  12/29/20         795\n",
    "    343         Taiwan  12/30/20         797\n",
    "    344         Taiwan  12/31/20         799\n",
    "\n",
    "    [345 rows x 3 columns]\n",
    "    \"\"\"\n",
    "    ### BEGIN SOLUTION\n",
    "    ### END SOLUTION"
   ]
  },
  {
   "cell_type": "markdown",
   "metadata": {},
   "source": [
    "## Define a function named `calculate_taiwan_daily_increase` that is able to calculate the daily increase of confirmed cases for Taiwan from 2020-01-23 to 2020-12-31.\n",
    "\n",
    "Note: We've removed the asterisks `*` from the csv file.\n",
    "\n",
    "- Expected inputs: a CSV file `time_series_covid19_confirmed_global.csv`.\n",
    "- Expected outputs: a (345, 4) DataFrame."
   ]
  },
  {
   "cell_type": "code",
   "execution_count": 8,
   "metadata": {},
   "outputs": [],
   "source": [
    "def calculate_taiwan_daily_increase(csv_file_path):\n",
    "    \"\"\"\n",
    "    >>> taiwan_daily_increase = calculate_taiwan_daily_increase('time_series_covid19_confirmed_global.csv')\n",
    "    >>> print(type(taiwan_daily_increase))\n",
    "    <class 'pandas.core.frame.DataFrame'>\n",
    "    >>> print(taiwan_daily_increase.shape)\n",
    "    (345, 4)\n",
    "    >>> print(taiwan_daily_increase)\n",
    "        Country/Region      Date  Cumulative  Daily_Increase\n",
    "    0           Taiwan   1/22/20           1             NaN\n",
    "    1           Taiwan   1/23/20           1             0.0\n",
    "    2           Taiwan   1/24/20           3             2.0\n",
    "    3           Taiwan   1/25/20           3             0.0\n",
    "    4           Taiwan   1/26/20           4             1.0\n",
    "    ..             ...       ...         ...             ...\n",
    "    340         Taiwan  12/27/20         785             2.0\n",
    "    341         Taiwan  12/28/20         793             8.0\n",
    "    342         Taiwan  12/29/20         795             2.0\n",
    "    343         Taiwan  12/30/20         797             2.0\n",
    "    344         Taiwan  12/31/20         799             2.0\n",
    "\n",
    "    [345 rows x 4 columns]\n",
    "    \"\"\"\n",
    "    ### BEGIN SOLUTION\n",
    "    ### END SOLUTION"
   ]
  },
  {
   "cell_type": "markdown",
   "metadata": {
    "deletable": false,
    "editable": false
   },
   "source": [
    "## Run tests!\n",
    "\n",
    "Kernel -> Restart & Run All."
   ]
  },
  {
   "cell_type": "code",
   "execution_count": 9,
   "metadata": {
    "deletable": false,
    "editable": false
   },
   "outputs": [
    {
     "name": "stderr",
     "output_type": "stream",
     "text": [
      "test_Covid19 (__main__.TestFinalNTNU) ... ERROR\n",
      "test_ImdbTopRated (__main__.TestFinalNTNU) ... ERROR\n",
      "test_calculate_taiwan_daily_increase (__main__.TestFinalNTNU) ... FAIL\n",
      "test_find_most_confirmed_countries (__main__.TestFinalNTNU) ... FAIL\n",
      "test_find_movies (__main__.TestFinalNTNU) ... FAIL\n",
      "test_find_taiwan_cumulative (__main__.TestFinalNTNU) ... FAIL\n",
      "test_find_unique_country_regions (__main__.TestFinalNTNU) ... FAIL\n",
      "\n",
      "======================================================================\n",
      "ERROR: test_Covid19 (__main__.TestFinalNTNU)\n",
      "----------------------------------------------------------------------\n",
      "Traceback (most recent call last):\n",
      "  File \"<ipython-input-9-1eb25e96c45f>\", line 55, in test_Covid19\n",
      "    self.assertEqual(covid19.get_nunique_countries(), 191)\n",
      "AttributeError: 'Covid19' object has no attribute 'get_nunique_countries'\n",
      "\n",
      "======================================================================\n",
      "ERROR: test_ImdbTopRated (__main__.TestFinalNTNU)\n",
      "----------------------------------------------------------------------\n",
      "Traceback (most recent call last):\n",
      "  File \"<ipython-input-9-1eb25e96c45f>\", line 51, in test_ImdbTopRated\n",
      "    self.assertEqual(imdb_top_rated.get_shape(), (250, 3))\n",
      "AttributeError: 'ImdbTopRated' object has no attribute 'get_shape'\n",
      "\n",
      "======================================================================\n",
      "FAIL: test_calculate_taiwan_daily_increase (__main__.TestFinalNTNU)\n",
      "----------------------------------------------------------------------\n",
      "Traceback (most recent call last):\n",
      "  File \"<ipython-input-9-1eb25e96c45f>\", line 28, in test_calculate_taiwan_daily_increase\n",
      "    self.assertIsInstance(taiwan_daily_increase, pd.core.frame.DataFrame)\n",
      "AssertionError: None is not an instance of <class 'pandas.core.frame.DataFrame'>\n",
      "\n",
      "======================================================================\n",
      "FAIL: test_find_most_confirmed_countries (__main__.TestFinalNTNU)\n",
      "----------------------------------------------------------------------\n",
      "Traceback (most recent call last):\n",
      "  File \"<ipython-input-9-1eb25e96c45f>\", line 12, in test_find_most_confirmed_countries\n",
      "    self.assertIsInstance(most_confirmed_countries, pd.core.series.Series)\n",
      "AssertionError: None is not an instance of <class 'pandas.core.series.Series'>\n",
      "\n",
      "======================================================================\n",
      "FAIL: test_find_movies (__main__.TestFinalNTNU)\n",
      "----------------------------------------------------------------------\n",
      "Traceback (most recent call last):\n",
      "  File \"<ipython-input-9-1eb25e96c45f>\", line 44, in test_find_movies\n",
      "    self.assertIsInstance(movies, pd.core.frame.DataFrame)\n",
      "AssertionError: None is not an instance of <class 'pandas.core.frame.DataFrame'>\n",
      "\n",
      "======================================================================\n",
      "FAIL: test_find_taiwan_cumulative (__main__.TestFinalNTNU)\n",
      "----------------------------------------------------------------------\n",
      "Traceback (most recent call last):\n",
      "  File \"<ipython-input-9-1eb25e96c45f>\", line 20, in test_find_taiwan_cumulative\n",
      "    self.assertIsInstance(taiwan_cumulative, pd.core.frame.DataFrame)\n",
      "AssertionError: None is not an instance of <class 'pandas.core.frame.DataFrame'>\n",
      "\n",
      "======================================================================\n",
      "FAIL: test_find_unique_country_regions (__main__.TestFinalNTNU)\n",
      "----------------------------------------------------------------------\n",
      "Traceback (most recent call last):\n",
      "  File \"<ipython-input-9-1eb25e96c45f>\", line 6, in test_find_unique_country_regions\n",
      "    self.assertIsInstance(unique_country_regions, pd.core.series.Series)\n",
      "AssertionError: None is not an instance of <class 'pandas.core.series.Series'>\n",
      "\n",
      "----------------------------------------------------------------------\n",
      "Ran 7 tests in 0.035s\n",
      "\n",
      "FAILED (failures=5, errors=2)\n"
     ]
    }
   ],
   "source": [
    "import unittest\n",
    "\n",
    "class TestFinalNTNU(unittest.TestCase):\n",
    "    def test_find_unique_country_regions(self):\n",
    "        unique_country_regions = find_unique_country_regions('12-31-2020.csv')\n",
    "        self.assertIsInstance(unique_country_regions, pd.core.series.Series)\n",
    "        self.assertEqual(unique_country_regions.size, 191)\n",
    "        self.assertEqual(unique_country_regions['US'], 3274)\n",
    "        self.assertEqual(unique_country_regions['Canada'], 16)\n",
    "    def test_find_most_confirmed_countries(self):\n",
    "        most_confirmed_countries = find_most_confirmed_countries('12-31-2020.csv')\n",
    "        self.assertIsInstance(most_confirmed_countries, pd.core.series.Series)\n",
    "        self.assertEqual(most_confirmed_countries.size, 20)\n",
    "        self.assertEqual(most_confirmed_countries['US'], 19974564)\n",
    "        self.assertEqual(most_confirmed_countries['India'], 10266674)\n",
    "        self.assertEqual(most_confirmed_countries['Netherlands'], 808382)\n",
    "        self.assertEqual(most_confirmed_countries['Indonesia'], 743198)\n",
    "    def test_find_taiwan_cumulative(self):\n",
    "        taiwan_cumulative = find_taiwan_cumulative('time_series_covid19_confirmed_global.csv')\n",
    "        self.assertIsInstance(taiwan_cumulative, pd.core.frame.DataFrame)\n",
    "        self.assertEqual(taiwan_cumulative.shape, (345, 3))\n",
    "        np.testing.assert_array_equal(taiwan_cumulative['Date'].values[:5], \n",
    "                                             np.array(['1/22/20', '1/23/20', '1/24/20', '1/25/20', '1/26/20']))\n",
    "        np.testing.assert_array_equal(taiwan_cumulative['Date'].values[-5:], \n",
    "                                             np.array(['12/27/20', '12/28/20', '12/29/20', '12/30/20', '12/31/20']))\n",
    "    def test_calculate_taiwan_daily_increase(self):\n",
    "        taiwan_daily_increase = calculate_taiwan_daily_increase('time_series_covid19_confirmed_global.csv')\n",
    "        self.assertIsInstance(taiwan_daily_increase, pd.core.frame.DataFrame)\n",
    "        self.assertEqual(taiwan_daily_increase.shape, (345, 4))\n",
    "        np.testing.assert_array_almost_equal(taiwan_daily_increase['Daily_Increase'].values[:5], \n",
    "                                             np.array([np.nan, 0., 2., 0., 1.]))\n",
    "        np.testing.assert_array_equal(taiwan_daily_increase['Cumulative'].values[:5], \n",
    "                                             np.array([1, 1, 3, 3, 4]))\n",
    "        np.testing.assert_array_equal(taiwan_daily_increase['Date'].values[:5], \n",
    "                                             np.array(['1/22/20', '1/23/20', '1/24/20', '1/25/20', '1/26/20']))\n",
    "        np.testing.assert_array_almost_equal(taiwan_daily_increase['Daily_Increase'].values[-5:], \n",
    "                                             np.array([2., 8., 2., 2., 2.]))\n",
    "        np.testing.assert_array_equal(taiwan_daily_increase['Cumulative'].values[-5:], \n",
    "                                             np.array([785, 793, 795, 797, 799]))\n",
    "        np.testing.assert_array_equal(taiwan_daily_increase['Date'].values[-5:], \n",
    "                                             np.array(['12/27/20', '12/28/20', '12/29/20', '12/30/20', '12/31/20']))\n",
    "    def test_find_movies(self):\n",
    "        movies = find_movies('imdb_top_rated_movies.csv')\n",
    "        self.assertIsInstance(movies, pd.core.frame.DataFrame)\n",
    "        self.assertEqual(movies.shape, (5, 3))\n",
    "        self.assertIn('The Shawshank Redemption', movies['title'].values)\n",
    "        self.assertIn('Forrest Gump', movies['title'].values)\n",
    "        self.assertAlmostEqual(movies['imdb_rating'].mean(), 8.76)\n",
    "    def test_ImdbTopRated(self):\n",
    "        imdb_top_rated = ImdbTopRated()\n",
    "        self.assertEqual(imdb_top_rated.get_shape(), (250, 3))\n",
    "        self.assertAlmostEqual(imdb_top_rated.get_avg_rating(), 8.254400000000002)\n",
    "    def test_Covid19(self):\n",
    "        covid19 = Covid19()\n",
    "        self.assertEqual(covid19.get_nunique_countries(), 191)\n",
    "        self.assertEqual(covid19.get_total_confirmed(), 83430923)\n",
    "        self.assertEqual(covid19.get_total_deaths(), 1818238)\n",
    "        self.assertEqual(covid19.get_total_recovered(), 47010049)\n",
    "\n",
    "suite = unittest.TestLoader().loadTestsFromTestCase(TestFinalNTNU)\n",
    "runner = unittest.TextTestRunner(verbosity=2)\n",
    "test_results = runner.run(suite)\n",
    "number_of_failures = len(test_results.failures)\n",
    "number_of_errors = len(test_results.errors)\n",
    "number_of_test_runs = test_results.testsRun\n",
    "number_of_successes = number_of_test_runs - (number_of_failures + number_of_errors)\n",
    "total_points = number_of_successes * 5"
   ]
  },
  {
   "cell_type": "code",
   "execution_count": 10,
   "metadata": {
    "deletable": false,
    "editable": false
   },
   "outputs": [
    {
     "name": "stdout",
     "output_type": "stream",
     "text": [
      "You've got 0/7 successes with 0/35 points.\n"
     ]
    }
   ],
   "source": [
    "print(\"You've got {}/{} successes with {}/{} points.\".format(number_of_successes, number_of_test_runs, total_points, number_of_test_runs * 5))"
   ]
  }
 ],
 "metadata": {
  "kernelspec": {
   "display_name": "Python Data Analysis",
   "language": "python",
   "name": "pyda"
  },
  "language_info": {
   "codemirror_mode": {
    "name": "ipython",
    "version": 3
   },
   "file_extension": ".py",
   "mimetype": "text/x-python",
   "name": "python",
   "nbconvert_exporter": "python",
   "pygments_lexer": "ipython3",
   "version": "3.6.8"
  }
 },
 "nbformat": 4,
 "nbformat_minor": 4
}
